{
 "cells": [
  {
   "cell_type": "code",
   "execution_count": 70,
   "metadata": {},
   "outputs": [],
   "source": [
    "\n",
    "a = [[1, -2], [3,0] ,[4, 5]]\n",
    "b = [[4, -1], [0, 5]]\n",
    "\n"
   ]
  },
  {
   "cell_type": "code",
   "execution_count": 68,
   "metadata": {},
   "outputs": [],
   "source": [
    "\n",
    "def multip_matrix(a, b):\n",
    "    m = len(a) # число строк матрицы а\n",
    "    n = len(b[0]) # число столбцов матрицы б\n",
    "    #print(f'Число столбцов матрицы a: {len(a[0])}')\n",
    "    #print(f'Число строк матрицы b: {len(b)}')\n",
    "    if len(a[0]) != len(b):\n",
    "        print('Матрицы не могут быть перемножены')\n",
    "    else:\n",
    "        # нулевая матрица для результата умножения\n",
    "        C = [[0] * n for i in range(m)]\n",
    "        for i in range ( m ):\n",
    "            for j in range(n):\n",
    "                for k in range(n):\n",
    "                    C[i][j]+= a[i][k]*b[k][j] \n",
    "                    \n",
    "        return C\n",
    "    \n",
    "    \n",
    "   \n",
    "            \n",
    "          \n",
    " \n"
   ]
  },
  {
   "cell_type": "code",
   "execution_count": 71,
   "metadata": {},
   "outputs": [
    {
     "name": "stdout",
     "output_type": "stream",
     "text": [
      "Число столбцов матрицы a: 2\n",
      "Число строк матрицы b: 2\n",
      "[[4, -11], [12, -3], [16, 21]]\n"
     ]
    }
   ],
   "source": [
    "print(multip_matrix(a,b))"
   ]
  },
  {
   "cell_type": "code",
   "execution_count": 56,
   "metadata": {},
   "outputs": [
    {
     "name": "stdout",
     "output_type": "stream",
     "text": [
      "[[  4 -11]\n",
      " [ 12  -3]\n",
      " [ 16  21]]\n"
     ]
    }
   ],
   "source": [
    "a = np.array([[1, -2], [3,0], [4, 5]])\n",
    "b = np.array([[4, -1], [0, 5]])\n",
    "print(a@b)"
   ]
  },
  {
   "cell_type": "code",
   "execution_count": null,
   "metadata": {},
   "outputs": [],
   "source": []
  }
 ],
 "metadata": {
  "kernelspec": {
   "display_name": "Python 3",
   "language": "python",
   "name": "python3"
  },
  "language_info": {
   "codemirror_mode": {
    "name": "ipython",
    "version": 3
   },
   "file_extension": ".py",
   "mimetype": "text/x-python",
   "name": "python",
   "nbconvert_exporter": "python",
   "pygments_lexer": "ipython3",
   "version": "3.7.3"
  }
 },
 "nbformat": 4,
 "nbformat_minor": 2
}
